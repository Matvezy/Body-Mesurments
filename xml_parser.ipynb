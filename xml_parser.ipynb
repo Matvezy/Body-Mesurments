{
  "nbformat": 4,
  "nbformat_minor": 0,
  "metadata": {
    "colab": {
      "name": "xml_parser.ipynb",
      "provenance": [],
      "collapsed_sections": [],
      "authorship_tag": "ABX9TyMczEUFeBaQuSZ4TLvrceSg",
      "include_colab_link": true
    },
    "kernelspec": {
      "name": "python3",
      "display_name": "Python 3"
    }
  },
  "cells": [
    {
      "cell_type": "markdown",
      "metadata": {
        "id": "view-in-github",
        "colab_type": "text"
      },
      "source": [
        "<a href=\"https://colab.research.google.com/github/Matvezy/Body-Mesurments/blob/master/xml_parser.ipynb\" target=\"_parent\"><img src=\"https://colab.research.google.com/assets/colab-badge.svg\" alt=\"Open In Colab\"/></a>"
      ]
    },
    {
      "cell_type": "code",
      "metadata": {
        "id": "a8hShgARG_Mf",
        "colab": {
          "base_uri": "https://localhost:8080/"
        },
        "outputId": "2981b76a-41fc-40b1-cdbf-5c521eaa7bf1"
      },
      "source": [
        "from google.colab import drive\r\n",
        "drive.mount(\"/content/gdrive\")"
      ],
      "execution_count": 1,
      "outputs": [
        {
          "output_type": "stream",
          "text": [
            "Mounted at /content/gdrive\n"
          ],
          "name": "stdout"
        }
      ]
    },
    {
      "cell_type": "code",
      "metadata": {
        "colab": {
          "base_uri": "https://localhost:8080/"
        },
        "id": "nF1m2WmLMQ9Y",
        "outputId": "22f622d8-34d8-44a0-f68e-0ab81d679566"
      },
      "source": [
        "%cd /content/gdrive/MyDrive/AITrainingLibRandClothHair500"
      ],
      "execution_count": 2,
      "outputs": [
        {
          "output_type": "stream",
          "text": [
            "/content/gdrive/MyDrive/AITrainingLibRandClothHair500\n"
          ],
          "name": "stdout"
        }
      ]
    },
    {
      "cell_type": "code",
      "metadata": {
        "id": "R7kMxp0_Qe0z"
      },
      "source": [
        "f = open(\"/content/gdrive/MyDrive/AITrainingLibRandClothHair500/trainFront.xml\", \"a\")\r\n",
        "for i in range(100,481):\r\n",
        "  f.write(\"  <image file='AITrainingLib/\"+str(i)+\"/mask.pt'>\\n\")\r\n",
        "  cords = open(\"AITrainingLib/\"+str(i)+\"/FrontDots.txt\", \"r\").read()\r\n",
        "  box = list(map(int,cords[cords.index('Box:'):].split()[1:]))\r\n",
        "  width = box[2] - box[0]\r\n",
        "  height = box[3] - box[1]\r\n",
        "  f.write((\"    <box top='\"+str(box[1])+\"' left='\"+str(box[0])+\"' width='\"+str(width)+\"' height='\"+str(height)+\"'>\\n\"))\r\n",
        "  cords = cords.strip().split(\"\\n\")[0:-2]\r\n",
        "  for cord in cords:\r\n",
        "    cord = cord.split(\" \")\r\n",
        "    name = cord[0][0:-1]\r\n",
        "    if len(name)<2:\r\n",
        "      name = \"0\"+name\r\n",
        "    x = cord[1][cord[1].index(\"=\")+1:]\r\n",
        "    y = cord[2][cord[2].index(\"=\")+1:]\r\n",
        "    f.write(\"      <part name='\"+name+\"' x='\"+x+\"' y='\"+y+\"'/>\\n\")\r\n",
        "  f.write(\"    </box>\\n\")\r\n",
        "  f.write(\"  </image>\\n\")\r\n",
        "#f.write(\"</images>\\n\")\r\n",
        "#f.write(\"</dataset>\\n\")\r\n",
        "f.close()"
      ],
      "execution_count": 8,
      "outputs": []
    },
    {
      "cell_type": "code",
      "metadata": {
        "colab": {
          "base_uri": "https://localhost:8080/"
        },
        "id": "EY70JWSUHAuw",
        "outputId": "6308c26a-87cd-4c85-9cc4-cf2c0f0f8c9d"
      },
      "source": [
        "import torch\r\n",
        "import numpy as np\r\n",
        "tens = torch.load('/content/gdrive/MyDrive/AITrainingLibRandClothHair500/AITrainingLib/1/mask.pt')\r\n",
        "np.array(tens).shape"
      ],
      "execution_count": 15,
      "outputs": [
        {
          "output_type": "execute_result",
          "data": {
            "text/plain": [
              "(1, 636, 461)"
            ]
          },
          "metadata": {
            "tags": []
          },
          "execution_count": 15
        }
      ]
    }
  ]
}