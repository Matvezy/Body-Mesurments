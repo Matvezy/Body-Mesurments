{
  "nbformat": 4,
  "nbformat_minor": 0,
  "metadata": {
    "colab": {
      "name": "testing.ipynb",
      "provenance": [],
      "collapsed_sections": [],
      "machine_shape": "hm",
      "authorship_tag": "ABX9TyNCOpuv6NmSXBHYlQqj0Nk4",
      "include_colab_link": true
    },
    "kernelspec": {
      "display_name": "Python 3",
      "name": "python3"
    },
    "accelerator": "GPU"
  },
  "cells": [
    {
      "cell_type": "markdown",
      "metadata": {
        "id": "view-in-github",
        "colab_type": "text"
      },
      "source": [
        "<a href=\"https://colab.research.google.com/github/Matvezy/Body-Mesurments/blob/master/testingSUCCESS.ipynb\" target=\"_parent\"><img src=\"https://colab.research.google.com/assets/colab-badge.svg\" alt=\"Open In Colab\"/></a>"
      ]
    },
    {
      "cell_type": "code",
      "metadata": {
        "id": "2ZOEJZOkmdFG",
        "colab": {
          "base_uri": "https://localhost:8080/"
        },
        "outputId": "32274caf-79a2-49a9-eec2-3494db640e9b"
      },
      "source": [
        "from google.colab import drive\r\n",
        "drive.mount(\"/content/gdrive\")"
      ],
      "execution_count": 60,
      "outputs": [
        {
          "output_type": "stream",
          "text": [
            "Drive already mounted at /content/gdrive; to attempt to forcibly remount, call drive.mount(\"/content/gdrive\", force_remount=True).\n"
          ],
          "name": "stdout"
        }
      ]
    },
    {
      "cell_type": "code",
      "metadata": {
        "id": "AP_2M7dCNmSF",
        "colab": {
          "base_uri": "https://localhost:8080/"
        },
        "outputId": "e9374818-f4b3-4483-f295-cc0d2abe3e59"
      },
      "source": [
        "%cd /content/gdrive/MyDrive/AI_500_512px_SizesOnly_Aligned"
      ],
      "execution_count": 61,
      "outputs": [
        {
          "output_type": "stream",
          "text": [
            "/content/gdrive/MyDrive/AI_500_512px_SizesOnly_Aligned\n"
          ],
          "name": "stdout"
        }
      ]
    },
    {
      "cell_type": "code",
      "metadata": {
        "colab": {
          "base_uri": "https://localhost:8080/"
        },
        "id": "RjOPcWt9_TrN",
        "outputId": "7bd613e3-90c7-43b6-ad02-e69d842a5b28"
      },
      "source": [
        "gpu_info = !nvidia-smi\r\n",
        "gpu_info = '\\n'.join(gpu_info)\r\n",
        "if gpu_info.find('failed') >= 0:\r\n",
        "  print('Select the Runtime > \"Change runtime type\" menu to enable a GPU accelerator, ')\r\n",
        "  print('and then re-execute this cell.')\r\n",
        "else:\r\n",
        "  print(gpu_info)"
      ],
      "execution_count": 62,
      "outputs": [
        {
          "output_type": "stream",
          "text": [
            "Wed Jan 13 03:46:17 2021       \n",
            "+-----------------------------------------------------------------------------+\n",
            "| NVIDIA-SMI 460.27.04    Driver Version: 418.67       CUDA Version: 10.1     |\n",
            "|-------------------------------+----------------------+----------------------+\n",
            "| GPU  Name        Persistence-M| Bus-Id        Disp.A | Volatile Uncorr. ECC |\n",
            "| Fan  Temp  Perf  Pwr:Usage/Cap|         Memory-Usage | GPU-Util  Compute M. |\n",
            "|                               |                      |               MIG M. |\n",
            "|===============================+======================+======================|\n",
            "|   0  Tesla P100-PCIE...  Off  | 00000000:00:04.0 Off |                    0 |\n",
            "| N/A   36C    P0    31W / 250W |   1755MiB / 16280MiB |      0%      Default |\n",
            "|                               |                      |                 ERR! |\n",
            "+-------------------------------+----------------------+----------------------+\n",
            "                                                                               \n",
            "+-----------------------------------------------------------------------------+\n",
            "| Processes:                                                                  |\n",
            "|  GPU   GI   CI        PID   Type   Process name                  GPU Memory |\n",
            "|        ID   ID                                                   Usage      |\n",
            "|=============================================================================|\n",
            "|  No running processes found                                                 |\n",
            "+-----------------------------------------------------------------------------+\n"
          ],
          "name": "stdout"
        }
      ]
    },
    {
      "cell_type": "code",
      "metadata": {
        "id": "E8FT8aOA0wwz"
      },
      "source": [
        "def findppm(mask, height):\r\n",
        "  mask = mask.cpu().numpy()[0]\r\n",
        "  masklen = len(mask) - 1\r\n",
        "  trig1 = False\r\n",
        "  trig2 = False\r\n",
        "  while masklen >= 0:\r\n",
        "    for j in mask[masklen]:\r\n",
        "      if j > 0.5:\r\n",
        "        trig1 = True\r\n",
        "        break\r\n",
        "    if trig1:\r\n",
        "      break\r\n",
        "    masklen -= 1\r\n",
        "  topix = 0\r\n",
        "  while topix < len(mask):\r\n",
        "    for j in mask[topix]:\r\n",
        "      if j > 0.5:\r\n",
        "        trig2 = True\r\n",
        "        break\r\n",
        "    if trig2:\r\n",
        "      break \r\n",
        "    topix += 1\r\n",
        "  pixheight = masklen - topix\r\n",
        "  ppmratio = pixheight/height\r\n",
        "  return ppmratio"
      ],
      "execution_count": 63,
      "outputs": []
    },
    {
      "cell_type": "code",
      "metadata": {
        "id": "YTwCzd6G_suS"
      },
      "source": [
        "import torch\r\n",
        "import torch.nn as nn\r\n",
        "from torchvision import datasets, models, transforms\r\n",
        "class Network(nn.Module):\r\n",
        "    def __init__(self,num_classes=12):\r\n",
        "        super().__init__()\r\n",
        "        self.model_name='resnet34'\r\n",
        "        self.model=models.resnet34()\r\n",
        "        self.model.conv1=nn.Conv2d(1, 64, kernel_size=7, stride=2, padding=3, bias=False)\r\n",
        "        self.model.fc=nn.Linear(self.model.fc.in_features, num_classes)\r\n",
        "        \r\n",
        "    def forward(self, x):\r\n",
        "        x=self.model(x)\r\n",
        "        return x"
      ],
      "execution_count": 64,
      "outputs": []
    },
    {
      "cell_type": "code",
      "metadata": {
        "id": "ojfnB1F16Q3O"
      },
      "source": [
        "def gettest(frontPPM, h_frontDot1, h_frontDot2, w_frontDot1, w_frontDot2, b_frontDot1, b_frontDot2, sidePPM, h_sideDot1, h_sideDot2, w_sideDot1, w_sideDot2, b_sideDot1, b_sideDot2):\r\n",
        "  \"\"\"\r\n",
        "  model1 = torch.load('/content/gdrive/MyDrive/AI_1050_512px_SizesRelative_Aligned/hipspred_model.pt')\r\n",
        "  model1.cuda()\r\n",
        "  model1.eval()\r\n",
        "  res =  model1(torch.tensor([frontPPM,\tfrontDot1,\tfrontDot2,\tsidePPM,\tsideDot1,\tsideDot2]).cuda())\r\n",
        "  print(\"Predicted Hips Loop: \"+str(res.item()))\r\n",
        "  \"\"\"\r\n",
        "  hips = (((h_frontDot1-h_frontDot2)/frontPPM)*2 + ((h_sideDot1-h_sideDot2)/sidePPM)*1.3)\r\n",
        "  waist = (((w_frontDot1-w_frontDot2)/frontPPM)*2 + ((w_sideDot1-w_sideDot2)/sidePPM)*1.3)\r\n",
        "  bust = (((b_frontDot1-b_frontDot2)/frontPPM)*2 + ((b_sideDot1-b_sideDot2)/sidePPM)*1.3)\r\n",
        "  return hips, waist, bust"
      ],
      "execution_count": 65,
      "outputs": []
    },
    {
      "cell_type": "code",
      "metadata": {
        "id": "0QhJXbvIARan"
      },
      "source": [
        "import cv2\r\n",
        "from PIL import Image\r\n",
        "import torchvision.transforms.functional as TF\r\n",
        "import torchvision.transforms as T\r\n",
        "from torch.autograd import Variable\r\n",
        "def image_loader(image_name):\r\n",
        "    image = cv2.imread(image_name, 0)\r\n",
        "    image = Image.fromarray(image)\r\n",
        "    image = TF.resize(image, (512,512))\r\n",
        "    image = TF.to_tensor(image)\r\n",
        "    image = Variable(image, requires_grad=True)\r\n",
        "    return image.cuda()  #assumes that you're using GPU"
      ],
      "execution_count": 66,
      "outputs": []
    },
    {
      "cell_type": "code",
      "metadata": {
        "id": "-VnpnmEKSRD3"
      },
      "source": [
        "def run_img(image1, image2, height):\r\n",
        "  with torch.no_grad():\r\n",
        "    img = image_loader(image1)\r\n",
        "    front_network = Network()\r\n",
        "    front_network.cuda()\r\n",
        "    front_network.load_state_dict(torch.load('/content/gdrive/MyDrive/AI_1050_512px_SizesRelative_Aligned/front_landmarks5.pth')) \r\n",
        "    front_network.eval()\r\n",
        "    predictions = (front_network(img[None, ...]).cpu())\r\n",
        "    predictions = predictions.view(-1,6,2)\r\n",
        "    predictions = predictions.detach().numpy()\r\n",
        "    h_frontDot1 = predictions[0][2][0]\r\n",
        "    h_frontDot2 = predictions[0][5][0]\r\n",
        "    w_frontDot1 = predictions[0][1][0]\r\n",
        "    w_frontDot2 = predictions[0][4][0]\r\n",
        "    b_frontDot1 = predictions[0][0][0]\r\n",
        "    b_frontDot2 = predictions[0][3][0]\r\n",
        "    img1 = image_loader(image2)\r\n",
        "    side_network = Network()\r\n",
        "    side_network.cuda()\r\n",
        "    side_network.load_state_dict(torch.load('/content/gdrive/MyDrive/AI_1050_512px_SizesRelative_Aligned/side_landmarks6.pth')) \r\n",
        "    side_network.eval()\r\n",
        "    predictions1 = (side_network(img1[None, ...]).cpu())\r\n",
        "    predictions1 = predictions1.view(-1,6,2)\r\n",
        "    predictions1 = predictions1.detach().numpy()\r\n",
        "    h_sideDot1 = predictions1[0][5][0]\r\n",
        "    h_sideDot2 = predictions1[0][0][0]\r\n",
        "    w_sideDot1 = predictions1[0][4][0]\r\n",
        "    w_sideDot2 = predictions1[0][1][0]\r\n",
        "    b_sideDot1 = predictions1[0][3][0]\r\n",
        "    b_sideDot2 = predictions1[0][2][0]\r\n",
        "    fimg = image1\r\n",
        "    fimg  = Image.open(fimg)\r\n",
        "    transform = T.Compose([T.ToTensor()])\r\n",
        "    fimg = transform(fimg)\r\n",
        "    front_ppm = findppm(fimg, height)\r\n",
        "\r\n",
        "    simg = image2\r\n",
        "    simg  = Image.open(simg)\r\n",
        "    simg = transform(simg)\r\n",
        "    side_ppm = findppm(simg, height)\r\n",
        "\r\n",
        "    hips, waist, bust = gettest(front_ppm, h_frontDot1, h_frontDot2, w_frontDot1, w_frontDot2, b_frontDot1, b_frontDot2, side_ppm, h_sideDot1, h_sideDot2, w_sideDot1, w_sideDot2, b_sideDot1, b_sideDot2)\r\n",
        "    return hips, waist, bust"
      ],
      "execution_count": 67,
      "outputs": []
    },
    {
      "cell_type": "code",
      "metadata": {
        "colab": {
          "base_uri": "https://localhost:8080/"
        },
        "id": "7yblVTI3Vxbh",
        "outputId": "eea4a799-d354-46de-dd90-31a0ed69654d"
      },
      "source": [
        "hips_res = []\r\n",
        "waist_res = []\r\n",
        "bust_res = []\r\n",
        "for i in range(1, 500):\r\n",
        "  metrics = open('AITrainingLib/'+str(i)+'/Data.txt','r').read().split(\"\\n\")\r\n",
        "  height = int(metrics[0].split(\": \")[1])\r\n",
        "  hips_loop = int(metrics[1].split(\": \")[1])\r\n",
        "  waist_loop = int(metrics[3].split(\": \")[1])\r\n",
        "  bust_loop = int(metrics[5].split(\": \")[1])\r\n",
        "  pred_hips, pred_waist, pred_bust = run_img('AITrainingLib/'+str(i)+'/Front.png', 'AITrainingLib/'+str(i)+'/Side.png', height)\r\n",
        "  hips_res.append(abs(hips_loop - pred_hips))\r\n",
        "  waist_res.append(abs(waist_loop - pred_waist))\r\n",
        "  bust_res.append(abs(bust_loop - pred_bust))\r\n",
        "  if i%100 == 0:\r\n",
        "    print('Height:'+str(height))\r\n",
        "    print('Actual Hips Loop:'+str(hips_loop))\r\n",
        "    print(\"Predicted Hips Loop: \"+str(pred_hips))\r\n",
        "    print('Actual Waist Loop:'+str(waist_loop))\r\n",
        "    print(\"Predicted Waist Loop: \"+str(pred_waist))\r\n",
        "    print('Actual Bust Loop:'+str(bust_loop))\r\n",
        "    print(\"Predicted Bust Loop: \"+str(pred_bust))"
      ],
      "execution_count": 68,
      "outputs": [
        {
          "output_type": "stream",
          "text": [
            "Height:180\n",
            "Actual Hips Loop:99\n",
            "Predicted Hips Loop: 100.39055822687776\n",
            "Actual Waist Loop:80\n",
            "Predicted Waist Loop: 77.50315733920323\n",
            "Actual Bust Loop:79\n",
            "Predicted Bust Loop: 74.5903325284465\n",
            "Height:180\n",
            "Actual Hips Loop:103\n",
            "Predicted Hips Loop: 104.60072703711313\n",
            "Actual Waist Loop:60\n",
            "Predicted Waist Loop: 71.16830568792277\n",
            "Actual Bust Loop:82\n",
            "Predicted Bust Loop: 75.96142595062844\n",
            "Height:180\n",
            "Actual Hips Loop:93\n",
            "Predicted Hips Loop: 94.12778581707218\n",
            "Actual Waist Loop:66\n",
            "Predicted Waist Loop: 74.44822056944699\n",
            "Actual Bust Loop:100\n",
            "Predicted Bust Loop: 95.31775262900915\n",
            "Height:180\n",
            "Actual Hips Loop:114\n",
            "Predicted Hips Loop: 113.69934814790363\n",
            "Actual Waist Loop:90\n",
            "Predicted Waist Loop: 89.42348202858729\n",
            "Actual Bust Loop:107\n",
            "Predicted Bust Loop: 107.15766531011371\n"
          ],
          "name": "stdout"
        }
      ]
    },
    {
      "cell_type": "code",
      "metadata": {
        "colab": {
          "base_uri": "https://localhost:8080/"
        },
        "id": "yv8pifLAjQVv",
        "outputId": "0a652513-46bf-468d-9d75-8dc1dfc2c7db"
      },
      "source": [
        "print(\"Average Hips Loop Error: \" + str(sum(hips_res) / len(hips_res)) +\" (cm)\")\r\n",
        "print(\"Average Waist Loop Error: \" + str(sum(waist_res) / len(waist_res)) +\" (cm)\")\r\n",
        "print(\"Average Bust Loop Error: \" + str(sum(bust_res) / len(bust_res)) +\" (cm)\")"
      ],
      "execution_count": 69,
      "outputs": [
        {
          "output_type": "stream",
          "text": [
            "Average Hips Loop Error: 1.2080626173616853 (cm)\n",
            "Average Waist Loop Error: 5.190086949341243 (cm)\n",
            "Average Bust Loop Error: 2.9545671270449505 (cm)\n"
          ],
          "name": "stdout"
        }
      ]
    }
  ]
}