{
  "nbformat": 4,
  "nbformat_minor": 0,
  "metadata": {
    "colab": {
      "name": "testing.ipynb",
      "provenance": [],
      "collapsed_sections": [],
      "authorship_tag": "ABX9TyMZt/5usym0vDhy8oIcJBX+",
      "include_colab_link": true
    },
    "kernelspec": {
      "display_name": "Python 3",
      "name": "python3"
    },
    "accelerator": "GPU"
  },
  "cells": [
    {
      "cell_type": "markdown",
      "metadata": {
        "id": "view-in-github",
        "colab_type": "text"
      },
      "source": [
        "<a href=\"https://colab.research.google.com/github/Matvezy/Body-Mesurments/blob/master/testing.ipynb\" target=\"_parent\"><img src=\"https://colab.research.google.com/assets/colab-badge.svg\" alt=\"Open In Colab\"/></a>"
      ]
    },
    {
      "cell_type": "code",
      "metadata": {
        "id": "2ZOEJZOkmdFG",
        "colab": {
          "base_uri": "https://localhost:8080/"
        },
        "outputId": "5d229eb2-ee92-466a-ccc7-78d075331e29"
      },
      "source": [
        "from google.colab import drive\r\n",
        "drive.mount(\"/content/gdrive\")"
      ],
      "execution_count": 1,
      "outputs": [
        {
          "output_type": "stream",
          "text": [
            "Mounted at /content/gdrive\n"
          ],
          "name": "stdout"
        }
      ]
    },
    {
      "cell_type": "code",
      "metadata": {
        "id": "7bEqGEIi8TGI"
      },
      "source": [
        "front = '/content/gdrive/MyDrive/Front1.png'\r\n",
        "side = '/content/gdrive/MyDrive/Side1.png'\r\n",
        "height = 175"
      ],
      "execution_count": 20,
      "outputs": []
    },
    {
      "cell_type": "code",
      "metadata": {
        "id": "HuXgFSM5dtCB"
      },
      "source": [
        "from PIL import Image\r\n",
        "import matplotlib.pyplot as plt\r\n",
        "import torch\r\n",
        "import torchvision.transforms as T\r\n",
        "import torchvision.transforms.functional as TF\r\n",
        "import torchvision\r\n",
        "import torch\r\n",
        "import numpy as np\r\n",
        "import cv2\r\n",
        "import random\r\n",
        "from torchvision.models.detection.mask_rcnn import MaskRCNNPredictor\r\n",
        "import torch.nn as nn\r\n",
        "from torchvision import datasets, models, transforms\r\n",
        "from torch.autograd import Variable\r\n",
        "import matplotlib.image as mpimg\r\n",
        "model = torchvision.models.detection.maskrcnn_resnet50_fpn(pretrained=True)\r\n",
        "model.eval()\r\n",
        "\r\n",
        "\r\n",
        "def random_colour_masks(image):\r\n",
        "  colours = [[0, 255, 0],[0, 0, 255],[255, 0, 0],[0, 255, 255],[255, 255, 0],[255, 0, 255],[80, 70, 180],[250, 80, 190],[245, 145, 50],[70, 150, 250],[50, 190, 190]]\r\n",
        "  r = np.zeros_like(image).astype(np.uint8)\r\n",
        "  g = np.zeros_like(image).astype(np.uint8)\r\n",
        "  b = np.zeros_like(image).astype(np.uint8)\r\n",
        "  r[image == 1], g[image == 1], b[image == 1] = colours[random.randrange(0,10)]\r\n",
        "  coloured_mask = np.stack([r, g, b], axis=2)\r\n",
        "  return coloured_mask\r\n",
        "\r\n",
        "COCO_INSTANCE_CATEGORY_NAMES = [\r\n",
        "    '__background__', 'person'\r\n",
        "]\r\n",
        "\r\n",
        "def get_prediction(img_path, threshold):\r\n",
        "  img = Image.open(img_path)\r\n",
        "  transform = T.Compose([T.ToTensor()])\r\n",
        "  img = transform(img)\r\n",
        "  pred = model([img])\r\n",
        "  pred_score = list(pred[0]['scores'].detach().numpy())\r\n",
        "  pred_t = [pred_score.index(x) for x in pred_score if x>threshold][-1]\r\n",
        "  masks = (pred[0]['masks']>0.5).squeeze().detach().cpu().numpy()\r\n",
        "  pred_class = [COCO_INSTANCE_CATEGORY_NAMES[i] for i in list(pred[0]['labels'].numpy())]\r\n",
        "  pred_boxes = [[(i[0], i[1]), (i[2], i[3])] for i in list(pred[0]['boxes'].detach().numpy())]\r\n",
        "  masks = masks[:pred_t+1]\r\n",
        "  pred_boxes = pred_boxes[:pred_t+1]\r\n",
        "  pred_class = pred_class[:pred_t+1]\r\n",
        "  return masks, pred_boxes, pred_class\r\n",
        "\r\n",
        "\r\n",
        "def instance_segmentation_api(img_path, threshold=0.5, rect_th=3, text_size=3, text_th=3):\r\n",
        "  masks, boxes, pred_cls = get_prediction(img_path, threshold)\r\n",
        "  img = cv2.imread(img_path)\r\n",
        "  img = cv2.cvtColor(img, cv2.COLOR_BGR2RGB)\r\n",
        "  for i in range(len(masks)):\r\n",
        "    rgb_mask = random_colour_masks(masks[i])\r\n",
        "    img = cv2.addWeighted(img, 1, rgb_mask, 0.5, 0)\r\n",
        "    cv2.rectangle(img, boxes[i][0], boxes[i][1],color=(0, 255, 0), thickness=rect_th)\r\n",
        "    cv2.putText(img,pred_cls[i], boxes[i][0], cv2.FONT_HERSHEY_SIMPLEX, text_size, (0,255,0),thickness=text_th)\r\n",
        "  plt.figure(figsize=(20,30))\r\n",
        "  plt.imshow(img)\r\n",
        "  plt.xticks([])\r\n",
        "  plt.yticks([])\r\n",
        "  plt.show()\r\n",
        "\r\n",
        "colours = [[0, 255, 0],[0, 0, 255],[255, 0, 0],[0, 255, 255],[255, 255, 0],[255, 0, 255],[80, 70, 180],[250, 80, 190],[245, 145, 50],[70, 150, 250],[50, 190, 190]]\r\n",
        "\r\n",
        "a,b,c=colours[0]\r\n",
        "\r\n",
        "def findppm(mask, height):\r\n",
        "  mask = mask.cpu().numpy()[0]\r\n",
        "  masklen = len(mask) - 1\r\n",
        "  trig1 = False\r\n",
        "  trig2 = False\r\n",
        "  while masklen >= 0:\r\n",
        "    for j in mask[masklen]:\r\n",
        "      if j > 0.5:\r\n",
        "        trig1 = True\r\n",
        "        break\r\n",
        "    if trig1:\r\n",
        "      break\r\n",
        "    masklen -= 1\r\n",
        "  topix = 0\r\n",
        "  while topix < len(mask):\r\n",
        "    for j in mask[topix]:\r\n",
        "      if j > 0.5:\r\n",
        "        trig2 = True\r\n",
        "        break\r\n",
        "    if trig2:\r\n",
        "      break \r\n",
        "    topix += 1\r\n",
        "  pixheight = masklen - topix\r\n",
        "  ppmratio = pixheight/height\r\n",
        "  return ppmratio\r\n",
        "\r\n",
        "def findends(mask, height):\r\n",
        "  masklen = len(mask) - 1\r\n",
        "  trig1 = False\r\n",
        "  trig2 = False\r\n",
        "  trig3 = False\r\n",
        "  trig4 = False\r\n",
        "  while masklen >= 0:\r\n",
        "    for j in mask[masklen]:\r\n",
        "      if j == 1:\r\n",
        "        trig1 = True\r\n",
        "        break\r\n",
        "    if trig1:\r\n",
        "      break\r\n",
        "    masklen -= 1\r\n",
        "\r\n",
        "  topix = 0\r\n",
        "  while topix < len(mask):\r\n",
        "    for j in mask[topix]:\r\n",
        "      if j == 1:\r\n",
        "        trig2 = True\r\n",
        "        break\r\n",
        "    if trig2:\r\n",
        "      break \r\n",
        "    topix += 1\r\n",
        "\r\n",
        "  left = 0\r\n",
        "  for i in range(len(mask[0])):\r\n",
        "    for j in range((len(mask))):\r\n",
        "      if mask[j][i] == 1:\r\n",
        "        left = mask[j][i]\r\n",
        "        trig4 = True\r\n",
        "        break\r\n",
        "    if trig4:\r\n",
        "      break\r\n",
        "\r\n",
        "  right = len(mask[0]) - 1\r\n",
        "  while right >= 0:\r\n",
        "    for j in range(len(mask)-1):\r\n",
        "      if mask[j][right] == 1:\r\n",
        "        trig3 = True\r\n",
        "        break\r\n",
        "    if trig3:\r\n",
        "      break\r\n",
        "    right -= 1\r\n",
        "  return masklen, topix, left, right\r\n",
        "\r\n",
        "def run_img(image1, image2, height):\r\n",
        "  with torch.no_grad():\r\n",
        "    img = image_loader(image1)\r\n",
        "    front_network = Network()\r\n",
        "    front_network.cuda()\r\n",
        "    front_network.load_state_dict(torch.load('/content/gdrive/MyDrive/AI_1050_512px_SizesRelative_Aligned/front_landmarks5.pth')) \r\n",
        "    front_network.eval()\r\n",
        "    predictions = (front_network(img[None, ...]).cpu())\r\n",
        "    predictions = predictions.view(-1,6,2)\r\n",
        "    predictions = predictions.detach().numpy()\r\n",
        "    h_frontDot1 = predictions[0][2][0]\r\n",
        "    h_frontDot2 = predictions[0][5][0]\r\n",
        "    w_frontDot1 = predictions[0][1][0]\r\n",
        "    w_frontDot2 = predictions[0][4][0]\r\n",
        "    b_frontDot1 = predictions[0][0][0]\r\n",
        "    b_frontDot2 = predictions[0][3][0]\r\n",
        "    img1 = image_loader(image2)\r\n",
        "    side_network = Network()\r\n",
        "    side_network.cuda()\r\n",
        "    side_network.load_state_dict(torch.load('/content/gdrive/MyDrive/AI_1050_512px_SizesRelative_Aligned/side_landmarks6.pth')) \r\n",
        "    side_network.eval()\r\n",
        "    predictions1 = (side_network(img1[None, ...]).cpu())\r\n",
        "    predictions1 = predictions1.view(-1,6,2)\r\n",
        "    predictions1 = predictions1.detach().numpy()\r\n",
        "    h_sideDot1 = predictions1[0][5][0]\r\n",
        "    h_sideDot2 = predictions1[0][0][0]\r\n",
        "    w_sideDot1 = predictions1[0][4][0]\r\n",
        "    w_sideDot2 = predictions1[0][1][0]\r\n",
        "    b_sideDot1 = predictions1[0][3][0]\r\n",
        "    b_sideDot2 = predictions1[0][2][0]\r\n",
        "    fimg = image1\r\n",
        "    #fimg  = Image.open(fimg)\r\n",
        "    transform = T.Compose([T.ToTensor()])\r\n",
        "    fimg = transform(fimg)\r\n",
        "    front_ppm = findppm(fimg, height)\r\n",
        "\r\n",
        "    simg = image2\r\n",
        "    #simg  = Image.open(simg)\r\n",
        "    simg = transform(simg)\r\n",
        "    side_ppm = findppm(simg, height)\r\n",
        "\r\n",
        "    hips, waist, bust = gettest(front_ppm, h_frontDot1, h_frontDot2, w_frontDot1, w_frontDot2, b_frontDot1, b_frontDot2, side_ppm, h_sideDot1, h_sideDot2, w_sideDot1, w_sideDot2, b_sideDot1, b_sideDot2)\r\n",
        "    return hips, waist, bust\r\n",
        "\r\n",
        "def gettest(frontPPM, h_frontDot1, h_frontDot2, w_frontDot1, w_frontDot2, b_frontDot1, b_frontDot2, sidePPM, h_sideDot1, h_sideDot2, w_sideDot1, w_sideDot2, b_sideDot1, b_sideDot2):\r\n",
        "  \"\"\"\r\n",
        "  model1 = torch.load('/content/gdrive/MyDrive/AI_1050_512px_SizesRelative_Aligned/hipspred_model.pt')\r\n",
        "  model1.cuda()\r\n",
        "  model1.eval()\r\n",
        "  res =  model1(torch.tensor([frontPPM,\tfrontDot1,\tfrontDot2,\tsidePPM,\tsideDot1,\tsideDot2]).cuda())\r\n",
        "  print(\"Predicted Hips Loop: \"+str(res.item()))\r\n",
        "  \"\"\"\r\n",
        "  hips = (((h_frontDot1-h_frontDot2)/frontPPM)*2 + ((h_sideDot1-h_sideDot2)/sidePPM)*1.3)\r\n",
        "  waist = (((w_frontDot1-w_frontDot2)/frontPPM)*2 + ((w_sideDot1-w_sideDot2)/sidePPM)*1.3)\r\n",
        "  bust = (((b_frontDot1-b_frontDot2)/frontPPM)*2 + ((b_sideDot1-b_sideDot2)/sidePPM)*1.3)\r\n",
        "  return hips, waist, bust\r\n",
        "\r\n",
        "def image_loader(image):\r\n",
        "    \"\"\"\r\n",
        "    image = cv2.imread(image_name, 0)\r\n",
        "    image = Image.fromarray(image)\r\n",
        "    image = TF.resize(image, (512,512))\r\n",
        "    \"\"\"\r\n",
        "    image = cv2.cvtColor(np.array(image), cv2.COLOR_BGR2GRAY)\r\n",
        "    image = TF.to_tensor(image)\r\n",
        "    image = Variable(image, requires_grad=True)\r\n",
        "    return image.cuda()"
      ],
      "execution_count": 21,
      "outputs": []
    },
    {
      "cell_type": "code",
      "metadata": {
        "colab": {
          "base_uri": "https://localhost:8080/"
        },
        "id": "RjOPcWt9_TrN",
        "outputId": "99f93570-d750-4d6b-fdee-77c574b5814c"
      },
      "source": [
        "gpu_info = !nvidia-smi\r\n",
        "gpu_info = '\\n'.join(gpu_info)\r\n",
        "if gpu_info.find('failed') >= 0:\r\n",
        "  print('Select the Runtime > \"Change runtime type\" menu to enable a GPU accelerator, ')\r\n",
        "  print('and then re-execute this cell.')\r\n",
        "else:\r\n",
        "  print(gpu_info)"
      ],
      "execution_count": 22,
      "outputs": [
        {
          "output_type": "stream",
          "text": [
            "Sat Jan 16 04:23:34 2021       \n",
            "+-----------------------------------------------------------------------------+\n",
            "| NVIDIA-SMI 460.27.04    Driver Version: 418.67       CUDA Version: 10.1     |\n",
            "|-------------------------------+----------------------+----------------------+\n",
            "| GPU  Name        Persistence-M| Bus-Id        Disp.A | Volatile Uncorr. ECC |\n",
            "| Fan  Temp  Perf  Pwr:Usage/Cap|         Memory-Usage | GPU-Util  Compute M. |\n",
            "|                               |                      |               MIG M. |\n",
            "|===============================+======================+======================|\n",
            "|   0  Tesla V100-SXM2...  Off  | 00000000:00:04.0 Off |                    0 |\n",
            "| N/A   40C    P0    39W / 300W |   1511MiB / 16130MiB |      0%      Default |\n",
            "|                               |                      |                 ERR! |\n",
            "+-------------------------------+----------------------+----------------------+\n",
            "                                                                               \n",
            "+-----------------------------------------------------------------------------+\n",
            "| Processes:                                                                  |\n",
            "|  GPU   GI   CI        PID   Type   Process name                  GPU Memory |\n",
            "|        ID   ID                                                   Usage      |\n",
            "|=============================================================================|\n",
            "|  No running processes found                                                 |\n",
            "+-----------------------------------------------------------------------------+\n"
          ],
          "name": "stdout"
        }
      ]
    },
    {
      "cell_type": "code",
      "metadata": {
        "id": "YTwCzd6G_suS"
      },
      "source": [
        "class Network(nn.Module):\r\n",
        "    def __init__(self,num_classes=12):\r\n",
        "        super().__init__()\r\n",
        "        self.model_name='resnet34'\r\n",
        "        self.model=models.resnet34()\r\n",
        "        self.model.conv1=nn.Conv2d(1, 64, kernel_size=7, stride=2, padding=3, bias=False)\r\n",
        "        self.model.fc=nn.Linear(self.model.fc.in_features, num_classes)\r\n",
        "        \r\n",
        "    def forward(self, x):\r\n",
        "        x=self.model(x)\r\n",
        "        return x"
      ],
      "execution_count": 23,
      "outputs": []
    },
    {
      "cell_type": "code",
      "metadata": {
        "id": "UAZFmGyA3GVO"
      },
      "source": [
        "def align_image(imgo, height):\r\n",
        "  ppm_std = 2.56\r\n",
        "  img = Image.open(imgo)\r\n",
        "  transform = T.Compose([T.ToTensor()])\r\n",
        "  img = transform(img)\r\n",
        "  if img.size()[0] == 4:\r\n",
        "          img = img[:3, ...] \r\n",
        "  pred = model([img])\r\n",
        "  labels = pred[0]['labels'].detach().numpy()\r\n",
        "  scores = pred[0]['scores'].detach().numpy()\r\n",
        "  indh = np.where(labels == 1)\r\n",
        "  needed = np.where(scores[indh] > 0.8)\r\n",
        "  masks = (pred[0]['masks']>0.5).squeeze().detach().cpu().numpy()\r\n",
        "  mask = masks[needed].astype('int')[0]\r\n",
        "  boxes = pred[0]['boxes'].detach().numpy()\r\n",
        "  box = boxes[needed].astype('int')[0]\r\n",
        "  bottom, top, left, right = findends(mask, height)\r\n",
        "  req_pixheight = int(ppm_std * height)\r\n",
        "  image=mpimg.imread(imgo)\r\n",
        "  image = image[top:bottom,box[0]:box[2]]\r\n",
        "  req_width = int((req_pixheight * image.shape[1])/image.shape[0])\r\n",
        "  image = Image.fromarray((image* 255).astype(np.uint8))\r\n",
        "  image = TF.resize(image, (req_pixheight, req_width))\r\n",
        "  alpha = image.split()[-1]\r\n",
        "  alpha = np.array(alpha)\r\n",
        "  width = len(alpha[0])\r\n",
        "  height = len(alpha)\r\n",
        "  midpoint_w = 0\r\n",
        "  dist_h = 0\r\n",
        "  if width < 512:\r\n",
        "    dist_w = 512 - width\r\n",
        "    midpoint_w = int(dist_w/2)\r\n",
        "  if height < 512:\r\n",
        "    dist_h = 512 - height\r\n",
        "  alpha = np.pad(alpha, ((dist_h, 0),(midpoint_w, midpoint_w)), 'constant')\r\n",
        "  alpha = Image.fromarray(alpha)\r\n",
        "  alpha_image = Image.merge('RGB', (alpha, alpha, alpha))\r\n",
        "  plt.imshow(alpha_image)\r\n",
        "  plt.show()\r\n",
        "  return alpha_image"
      ],
      "execution_count": 24,
      "outputs": []
    },
    {
      "cell_type": "code",
      "metadata": {
        "colab": {
          "base_uri": "https://localhost:8080/",
          "height": 571
        },
        "id": "wunHZ_z79WAm",
        "outputId": "93add9cb-8cac-411c-c565-d2eb780a112a"
      },
      "source": [
        "metrics = open('/content/gdrive/MyDrive/Female_S_6.txt','r').read().split(\"\\n\")\r\n",
        "#metrics = open('/content/gdrive/MyDrive/AI_500_512px_SizesOnly_Aligned/AITrainingLib/100/Data.txt','r').read().split(\"\\n\")\r\n",
        "hips_loop = int(metrics[3].split(\": \")[1])\r\n",
        "waist_loop = int(metrics[2].split(\": \")[1])\r\n",
        "bust_loop = int(metrics[1].split(\": \")[1])\r\n",
        "front = align_image(front, height)\r\n",
        "side = align_image(side, height)\r\n",
        "pred_hips, pred_waist, pred_bust = run_img(front, side, height)\r\n",
        "print(\"Missed hips by: \"+ str(abs(hips_loop - pred_hips)) + \" (cm)\")\r\n",
        "print(\"Missed waist by: \"+ str(abs(waist_loop - pred_waist)) + \" (cm)\")\r\n",
        "print(\"Missed bust by: \"+ str(abs(bust_loop - pred_bust)) + \" (cm)\")"
      ],
      "execution_count": 25,
      "outputs": [
        {
          "output_type": "display_data",
          "data": {
            "image/png": "[encoded data removed]",
            "text/plain": [
              "<Figure size 432x288 with 1 Axes>"
            ]
          },
          "metadata": {
            "tags": [],
            "needs_background": "light"
          }
        },
        {
          "output_type": "display_data",
          "data": {
            "image/png": "[encoded data removed]",
            "text/plain": [
              "<Figure size 432x288 with 1 Axes>"
            ]
          },
          "metadata": {
            "tags": [],
            "needs_background": "light"
          }
        },
        {
          "output_type": "stream",
          "text": [
            "Missed hips by: 7.277729247773792 (cm)\n",
            "Missed waist by: 0.4227923706874037 (cm)\n",
            "Missed bust by: 17.96004301749619 (cm)\n"
          ],
          "name": "stdout"
        }
      ]
    },
    {
      "cell_type": "markdown",
      "metadata": {
        "id": "f7mk9K9Lb266"
      },
      "source": [
        ""
      ]
    },
    {
      "cell_type": "markdown",
      "metadata": {
        "id": "Or4Zb8AQb2nX"
      },
      "source": [
        ""
      ]
    },
    {
      "cell_type": "markdown",
      "metadata": {
        "id": "nmvVNcEX9Lzc"
      },
      "source": [
        "# 500 Images metrics performance test"
      ]
    },
    {
      "cell_type": "code",
      "metadata": {
        "colab": {
          "base_uri": "https://localhost:8080/"
        },
        "id": "7yblVTI3Vxbh",
        "outputId": "eea4a799-d354-46de-dd90-31a0ed69654d"
      },
      "source": [
        "hips_res = []\r\n",
        "waist_res = []\r\n",
        "bust_res = []\r\n",
        "for i in range(1, 500):\r\n",
        "  metrics = open('AITrainingLib/'+str(i)+'/Data.txt','r').read().split(\"\\n\")\r\n",
        "  height = int(metrics[0].split(\": \")[1])\r\n",
        "  hips_loop = int(metrics[1].split(\": \")[1])\r\n",
        "  waist_loop = int(metrics[3].split(\": \")[1])\r\n",
        "  bust_loop = int(metrics[5].split(\": \")[1])\r\n",
        "  pred_hips, pred_waist, pred_bust = run_img('AITrainingLib/'+str(i)+'/Front.png', 'AITrainingLib/'+str(i)+'/Side.png', height)\r\n",
        "  hips_res.append(abs(hips_loop - pred_hips))\r\n",
        "  waist_res.append(abs(waist_loop - pred_waist))\r\n",
        "  bust_res.append(abs(bust_loop - pred_bust))\r\n",
        "  if i%100 == 0:\r\n",
        "    print('Height:'+str(height))\r\n",
        "    print('Actual Hips Loop:'+str(hips_loop))\r\n",
        "    print(\"Predicted Hips Loop: \"+str(pred_hips))\r\n",
        "    print('Actual Waist Loop:'+str(waist_loop))\r\n",
        "    print(\"Predicted Waist Loop: \"+str(pred_waist))\r\n",
        "    print('Actual Bust Loop:'+str(bust_loop))\r\n",
        "    print(\"Predicted Bust Loop: \"+str(pred_bust))"
      ],
      "execution_count": null,
      "outputs": [
        {
          "output_type": "stream",
          "text": [
            "Height:180\n",
            "Actual Hips Loop:99\n",
            "Predicted Hips Loop: 100.39055822687776\n",
            "Actual Waist Loop:80\n",
            "Predicted Waist Loop: 77.50315733920323\n",
            "Actual Bust Loop:79\n",
            "Predicted Bust Loop: 74.5903325284465\n",
            "Height:180\n",
            "Actual Hips Loop:103\n",
            "Predicted Hips Loop: 104.60072703711313\n",
            "Actual Waist Loop:60\n",
            "Predicted Waist Loop: 71.16830568792277\n",
            "Actual Bust Loop:82\n",
            "Predicted Bust Loop: 75.96142595062844\n",
            "Height:180\n",
            "Actual Hips Loop:93\n",
            "Predicted Hips Loop: 94.12778581707218\n",
            "Actual Waist Loop:66\n",
            "Predicted Waist Loop: 74.44822056944699\n",
            "Actual Bust Loop:100\n",
            "Predicted Bust Loop: 95.31775262900915\n",
            "Height:180\n",
            "Actual Hips Loop:114\n",
            "Predicted Hips Loop: 113.69934814790363\n",
            "Actual Waist Loop:90\n",
            "Predicted Waist Loop: 89.42348202858729\n",
            "Actual Bust Loop:107\n",
            "Predicted Bust Loop: 107.15766531011371\n"
          ],
          "name": "stdout"
        }
      ]
    },
    {
      "cell_type": "code",
      "metadata": {
        "colab": {
          "base_uri": "https://localhost:8080/"
        },
        "id": "yv8pifLAjQVv",
        "outputId": "0a652513-46bf-468d-9d75-8dc1dfc2c7db"
      },
      "source": [
        "print(\"Average Hips Loop Error: \" + str(sum(hips_res) / len(hips_res)) +\" (cm)\")\r\n",
        "print(\"Average Waist Loop Error: \" + str(sum(waist_res) / len(waist_res)) +\" (cm)\")\r\n",
        "print(\"Average Bust Loop Error: \" + str(sum(bust_res) / len(bust_res)) +\" (cm)\")"
      ],
      "execution_count": null,
      "outputs": [
        {
          "output_type": "stream",
          "text": [
            "Average Hips Loop Error: 1.2080626173616853 (cm)\n",
            "Average Waist Loop Error: 5.190086949341243 (cm)\n",
            "Average Bust Loop Error: 2.9545671270449505 (cm)\n"
          ],
          "name": "stdout"
        }
      ]
    }
  ]
}