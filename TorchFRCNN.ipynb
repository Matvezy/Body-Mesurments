{
  "nbformat": 4,
  "nbformat_minor": 0,
  "metadata": {
    "colab": {
      "name": "TorchFRCNN.ipynb",
      "provenance": [],
      "collapsed_sections": [],
      "authorship_tag": "ABX9TyNUAxMFPQVKnyr322HQ+D44",
      "include_colab_link": true
    },
    "kernelspec": {
      "display_name": "Python 3",
      "name": "python3"
    }
  },
  "cells": [
    {
      "cell_type": "markdown",
      "metadata": {
        "id": "view-in-github",
        "colab_type": "text"
      },
      "source": [
        "<a href=\"https://colab.research.google.com/github/Matvezy/Body-Mesurments/blob/master/TorchFRCNN.ipynb\" target=\"_parent\"><img src=\"https://colab.research.google.com/assets/colab-badge.svg\" alt=\"Open In Colab\"/></a>"
      ]
    },
    {
      "cell_type": "code",
      "metadata": {
        "colab": {
          "base_uri": "https://localhost:8080/"
        },
        "id": "bhQpfUFrQfgl",
        "outputId": "c2123940-70d2-457c-8db4-cc1f45e256c7"
      },
      "source": [
        "from google.colab import drive\r\n",
        "drive.mount(\"/content/gdrive\")"
      ],
      "execution_count": 1,
      "outputs": [
        {
          "output_type": "stream",
          "text": [
            "Mounted at /content/gdrive\n"
          ],
          "name": "stdout"
        }
      ]
    },
    {
      "cell_type": "code",
      "metadata": {
        "id": "PgWkPkG1sVHw"
      },
      "source": [
        "# import necessary libraries\n",
        "from PIL import Image\n",
        "import matplotlib.pyplot as plt\n",
        "import torch\n",
        "import torchvision.transforms as T\n",
        "import torchvision\n",
        "import torch\n",
        "import numpy as np\n",
        "import cv2\n",
        "import random\n",
        "from torchvision.models.detection.mask_rcnn import MaskRCNNPredictor\n",
        "\n",
        "# get the pretrained model from torchvision.models\n",
        "# Note: pretrained=True will get the pretrained weights for the model.\n",
        "# model.eval() to use the model for inference\n",
        "model = torchvision.models.detection.maskrcnn_resnet50_fpn(pretrained=True)\n",
        "model.eval()\n",
        "\n",
        "\n",
        "def random_colour_masks(image):\n",
        "  \"\"\"\n",
        "  random_colour_masks\n",
        "    parameters:\n",
        "      - image - predicted masks\n",
        "    method:\n",
        "      - the masks of each predicted object is given random colour for visualization\n",
        "  \"\"\"\n",
        "  colours = [[0, 255, 0],[0, 0, 255],[255, 0, 0],[0, 255, 255],[255, 255, 0],[255, 0, 255],[80, 70, 180],[250, 80, 190],[245, 145, 50],[70, 150, 250],[50, 190, 190]]\n",
        "  r = np.zeros_like(image).astype(np.uint8)\n",
        "  g = np.zeros_like(image).astype(np.uint8)\n",
        "  b = np.zeros_like(image).astype(np.uint8)\n",
        "  r[image == 1], g[image == 1], b[image == 1] = colours[random.randrange(0,10)]\n",
        "  coloured_mask = np.stack([r, g, b], axis=2)\n",
        "  return coloured_mask\n",
        "\n",
        "COCO_INSTANCE_CATEGORY_NAMES = [\n",
        "    '__background__', 'person'\n",
        "]\n",
        "\n",
        "def get_prediction(img_path, threshold):\n",
        "  \"\"\"\n",
        "  get_prediction\n",
        "    parameters:\n",
        "      - img_path - path of the input image\n",
        "    method:\n",
        "      - Image is obtained from the image path\n",
        "      - the image is converted to image tensor using PyTorch's Transforms\n",
        "      - image is passed through the model to get the predictions\n",
        "      - masks, classes and bounding boxes are obtained from the model and soft masks are made binary(0 or 1) on masks\n",
        "        ie: eg. segment of cat is made 1 and rest of the image is made 0\n",
        "    \n",
        "  \"\"\"\n",
        "  img = Image.open(img_path)\n",
        "  transform = T.Compose([T.ToTensor()])\n",
        "  img = transform(img)\n",
        "  pred = model([img])\n",
        "  pred_score = list(pred[0]['scores'].detach().numpy())\n",
        "  pred_t = [pred_score.index(x) for x in pred_score if x>threshold][-1]\n",
        "  masks = (pred[0]['masks']>0.5).squeeze().detach().cpu().numpy()\n",
        "  pred_class = [COCO_INSTANCE_CATEGORY_NAMES[i] for i in list(pred[0]['labels'].numpy())]\n",
        "  pred_boxes = [[(i[0], i[1]), (i[2], i[3])] for i in list(pred[0]['boxes'].detach().numpy())]\n",
        "  masks = masks[:pred_t+1]\n",
        "  pred_boxes = pred_boxes[:pred_t+1]\n",
        "  pred_class = pred_class[:pred_t+1]\n",
        "  return masks, pred_boxes, pred_class\n",
        "\n",
        "\n",
        "def instance_segmentation_api(img_path, threshold=0.5, rect_th=3, text_size=3, text_th=3):\n",
        "  \"\"\"\n",
        "  instance_segmentation_api\n",
        "    parameters:\n",
        "      - img_path - path to input image\n",
        "    method:\n",
        "      - prediction is obtained by get_prediction\n",
        "      - each mask is given random color\n",
        "      - each mask is added to the image in the ration 1:0.8 with opencv\n",
        "      - final output is displayed\n",
        "  \"\"\"\n",
        "  masks, boxes, pred_cls = get_prediction(img_path, threshold)\n",
        "  img = cv2.imread(img_path)\n",
        "  img = cv2.cvtColor(img, cv2.COLOR_BGR2RGB)\n",
        "  for i in range(len(masks)):\n",
        "    rgb_mask = random_colour_masks(masks[i])\n",
        "    img = cv2.addWeighted(img, 1, rgb_mask, 0.5, 0)\n",
        "    cv2.rectangle(img, boxes[i][0], boxes[i][1],color=(0, 255, 0), thickness=rect_th)\n",
        "    cv2.putText(img,pred_cls[i], boxes[i][0], cv2.FONT_HERSHEY_SIMPLEX, text_size, (0,255,0),thickness=text_th)\n",
        "  plt.figure(figsize=(20,30))\n",
        "  plt.imshow(img)\n",
        "  plt.xticks([])\n",
        "  plt.yticks([])\n",
        "  plt.show()"
      ],
      "execution_count": 224,
      "outputs": []
    },
    {
      "cell_type": "code",
      "metadata": {
        "id": "AygOUBvafdgW"
      },
      "source": [
        "def findppm(mask, height):\r\n",
        "  masklen = len(mask) - 1\r\n",
        "  trig1 = False\r\n",
        "  trig2 = False\r\n",
        "  trig3 = False\r\n",
        "  trig4 = False\r\n",
        "  while masklen >= 0:\r\n",
        "    for j in mask[masklen]:\r\n",
        "      if j == 1:\r\n",
        "        trig1 = True\r\n",
        "        break\r\n",
        "    if trig1:\r\n",
        "      break\r\n",
        "    masklen -= 1\r\n",
        "\r\n",
        "  topix = 0\r\n",
        "  while topix < len(mask):\r\n",
        "    for j in mask[topix]:\r\n",
        "      if j == 1:\r\n",
        "        trig2 = True\r\n",
        "        break\r\n",
        "    if trig2:\r\n",
        "      break \r\n",
        "    topix += 1\r\n",
        "\r\n",
        "  left = 0\r\n",
        "  for i in range(len(mask[0])):\r\n",
        "    for j in range((len(mask))):\r\n",
        "      if mask[j][i] == 1:\r\n",
        "        left = mask[j][i]\r\n",
        "        trig4 = True\r\n",
        "        break\r\n",
        "    if trig4:\r\n",
        "      break\r\n",
        "\r\n",
        "  right = len(mask[0]) - 1\r\n",
        "  while right >= 0:\r\n",
        "    for j in range(len(mask)-1):\r\n",
        "      if mask[j][right] == 1:\r\n",
        "        trig3 = True\r\n",
        "        break\r\n",
        "    if trig3:\r\n",
        "      break\r\n",
        "    right -= 1\r\n",
        "  return masklen, topix, left, right"
      ],
      "execution_count": 225,
      "outputs": []
    },
    {
      "cell_type": "code",
      "metadata": {
        "id": "5GELIrYgsaIe"
      },
      "source": [
        "colours = [[0, 255, 0],[0, 0, 255],[255, 0, 0],[0, 255, 255],[255, 255, 0],[255, 0, 255],[80, 70, 180],[250, 80, 190],[245, 145, 50],[70, 150, 250],[50, 190, 190]]\n",
        "\n",
        "a,b,c=colours[0]"
      ],
      "execution_count": 226,
      "outputs": []
    },
    {
      "cell_type": "code",
      "metadata": {
        "id": "KQDQAcxbs8sD"
      },
      "source": [
        "img = Image.open('/content/gdrive/MyDrive/Front.png')\n",
        "transform = T.Compose([T.ToTensor()])\n",
        "img = transform(img)\n",
        "if img.size()[0] == 4:\n",
        "        img = img[:3, ...] \n",
        "pred = model([img])"
      ],
      "execution_count": 227,
      "outputs": []
    },
    {
      "cell_type": "code",
      "metadata": {
        "id": "yWh7G36htKsi"
      },
      "source": [
        "labels = pred[0]['labels'].detach().numpy()\r\n",
        "scores = pred[0]['scores'].detach().numpy()\r\n",
        "indh = np.where(labels == 1)\r\n",
        "needed = np.where(scores[indh] > 0.8)\r\n",
        "masks = (pred[0]['masks']>0.5).squeeze().detach().cpu().numpy()\r\n",
        "mask = masks[needed].astype('int')[0]\r\n",
        "\r\n",
        "boxes = pred[0]['boxes'].detach().numpy()\r\n",
        "box = boxes[needed].astype('int')[0]"
      ],
      "execution_count": 228,
      "outputs": []
    },
    {
      "cell_type": "code",
      "metadata": {
        "id": "GNI2Pv5nClzo"
      },
      "source": [
        "height = 164"
      ],
      "execution_count": 229,
      "outputs": []
    },
    {
      "cell_type": "code",
      "metadata": {
        "id": "Mu8sd1lifOHx"
      },
      "source": [
        "bottom, top, left, right = findppm(mask, height)"
      ],
      "execution_count": 230,
      "outputs": []
    },
    {
      "cell_type": "code",
      "metadata": {
        "id": "3zQmNoSjyJHR"
      },
      "source": [
        "ppm_std = 2.56"
      ],
      "execution_count": 231,
      "outputs": []
    },
    {
      "cell_type": "code",
      "metadata": {
        "id": "ZkYTDcL7CaWe"
      },
      "source": [
        "req_pixheight = int(ppm_std * height)"
      ],
      "execution_count": 232,
      "outputs": []
    },
    {
      "cell_type": "code",
      "metadata": {
        "id": "5tjdj04hhs7d"
      },
      "source": [
        "import matplotlib.image as mpimg\r\n",
        "image=mpimg.imread('/content/gdrive/MyDrive/Front.png')\r\n",
        "if image.shape[-1] == 4:\r\n",
        "        image = image[..., :3]\r\n",
        "image = image[top:bottom,box[0]:box[2]]\r\n",
        "req_width = int((req_pixheight * image.shape[1])/image.shape[0])"
      ],
      "execution_count": 234,
      "outputs": []
    },
    {
      "cell_type": "code",
      "metadata": {
        "id": "dYJ6H-2TEXfY"
      },
      "source": [
        "import torchvision.transforms.functional as TF\r\n",
        "image = Image.fromarray((image* 255).astype(np.uint8))\r\n",
        "image = TF.resize(image, (req_pixheight, req_width))"
      ],
      "execution_count": 235,
      "outputs": []
    },
    {
      "cell_type": "code",
      "metadata": {
        "id": "Mw93duB2tUPq",
        "colab": {
          "base_uri": "https://localhost:8080/",
          "height": 269
        },
        "outputId": "a555607a-884a-4432-eeb9-1293d4e1394d"
      },
      "source": [
        "plt.imshow(image)\n",
        "plt.show()"
      ],
      "execution_count": 237,
      "outputs": [
        {
          "output_type": "display_data",
          "data": {
            "image/png": "[encoded data removed]",
            "text/plain": [
              "<Figure size 432x288 with 1 Axes>"
            ]
          },
          "metadata": {
            "tags": [],
            "needs_background": "light"
          }
        }
      ]
    }
  ]
}