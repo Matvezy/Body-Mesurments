{
  "nbformat": 4,
  "nbformat_minor": 0,
  "metadata": {
    "colab": {
      "name": "TorchFRCNN.ipynb",
      "provenance": [],
      "collapsed_sections": [],
      "authorship_tag": "ABX9TyNFD7EDYa+QRuwDxDWK+4G/",
      "include_colab_link": true
    },
    "kernelspec": {
      "display_name": "Python 3",
      "name": "python3"
    },
    "widgets": {
      "application/vnd.jupyter.widget-state+json": {
        "8393e343ddab4d419f58ae3817ef8310": {
          "model_module": "@jupyter-widgets/controls",
          "model_name": "HBoxModel",
          "state": {
            "_view_name": "HBoxView",
            "_dom_classes": [],
            "_model_name": "HBoxModel",
            "_view_module": "@jupyter-widgets/controls",
            "_model_module_version": "1.5.0",
            "_view_count": null,
            "_view_module_version": "1.5.0",
            "box_style": "",
            "layout": "IPY_MODEL_2a62419df16f426982dbdd9381a53454",
            "_model_module": "@jupyter-widgets/controls",
            "children": [
              "IPY_MODEL_d0b05f4bf5104a9f85f634cfb840f58f",
              "IPY_MODEL_2a6b980cc9954618b81892ef6852aead"
            ]
          }
        },
        "2a62419df16f426982dbdd9381a53454": {
          "model_module": "@jupyter-widgets/base",
          "model_name": "LayoutModel",
          "state": {
            "_view_name": "LayoutView",
            "grid_template_rows": null,
            "right": null,
            "justify_content": null,
            "_view_module": "@jupyter-widgets/base",
            "overflow": null,
            "_model_module_version": "1.2.0",
            "_view_count": null,
            "flex_flow": null,
            "width": null,
            "min_width": null,
            "border": null,
            "align_items": null,
            "bottom": null,
            "_model_module": "@jupyter-widgets/base",
            "top": null,
            "grid_column": null,
            "overflow_y": null,
            "overflow_x": null,
            "grid_auto_flow": null,
            "grid_area": null,
            "grid_template_columns": null,
            "flex": null,
            "_model_name": "LayoutModel",
            "justify_items": null,
            "grid_row": null,
            "max_height": null,
            "align_content": null,
            "visibility": null,
            "align_self": null,
            "height": null,
            "min_height": null,
            "padding": null,
            "grid_auto_rows": null,
            "grid_gap": null,
            "max_width": null,
            "order": null,
            "_view_module_version": "1.2.0",
            "grid_template_areas": null,
            "object_position": null,
            "object_fit": null,
            "grid_auto_columns": null,
            "margin": null,
            "display": null,
            "left": null
          }
        },
        "d0b05f4bf5104a9f85f634cfb840f58f": {
          "model_module": "@jupyter-widgets/controls",
          "model_name": "FloatProgressModel",
          "state": {
            "_view_name": "ProgressView",
            "style": "IPY_MODEL_5501f20f8e8e4b3c8561b3e5a74b1a54",
            "_dom_classes": [],
            "description": "100%",
            "_model_name": "FloatProgressModel",
            "bar_style": "success",
            "max": 178090079,
            "_view_module": "@jupyter-widgets/controls",
            "_model_module_version": "1.5.0",
            "value": 178090079,
            "_view_count": null,
            "_view_module_version": "1.5.0",
            "orientation": "horizontal",
            "min": 0,
            "description_tooltip": null,
            "_model_module": "@jupyter-widgets/controls",
            "layout": "IPY_MODEL_9e044b69549f4fc0b66689cfa010df77"
          }
        },
        "2a6b980cc9954618b81892ef6852aead": {
          "model_module": "@jupyter-widgets/controls",
          "model_name": "HTMLModel",
          "state": {
            "_view_name": "HTMLView",
            "style": "IPY_MODEL_ed7ad038c17f4500863436320ded2144",
            "_dom_classes": [],
            "description": "",
            "_model_name": "HTMLModel",
            "placeholder": "​",
            "_view_module": "@jupyter-widgets/controls",
            "_model_module_version": "1.5.0",
            "value": " 170M/170M [00:02&lt;00:00, 60.3MB/s]",
            "_view_count": null,
            "_view_module_version": "1.5.0",
            "description_tooltip": null,
            "_model_module": "@jupyter-widgets/controls",
            "layout": "IPY_MODEL_ce1ad3b430c44eec8a885539a3d056a2"
          }
        },
        "5501f20f8e8e4b3c8561b3e5a74b1a54": {
          "model_module": "@jupyter-widgets/controls",
          "model_name": "ProgressStyleModel",
          "state": {
            "_view_name": "StyleView",
            "_model_name": "ProgressStyleModel",
            "description_width": "initial",
            "_view_module": "@jupyter-widgets/base",
            "_model_module_version": "1.5.0",
            "_view_count": null,
            "_view_module_version": "1.2.0",
            "bar_color": null,
            "_model_module": "@jupyter-widgets/controls"
          }
        },
        "9e044b69549f4fc0b66689cfa010df77": {
          "model_module": "@jupyter-widgets/base",
          "model_name": "LayoutModel",
          "state": {
            "_view_name": "LayoutView",
            "grid_template_rows": null,
            "right": null,
            "justify_content": null,
            "_view_module": "@jupyter-widgets/base",
            "overflow": null,
            "_model_module_version": "1.2.0",
            "_view_count": null,
            "flex_flow": null,
            "width": null,
            "min_width": null,
            "border": null,
            "align_items": null,
            "bottom": null,
            "_model_module": "@jupyter-widgets/base",
            "top": null,
            "grid_column": null,
            "overflow_y": null,
            "overflow_x": null,
            "grid_auto_flow": null,
            "grid_area": null,
            "grid_template_columns": null,
            "flex": null,
            "_model_name": "LayoutModel",
            "justify_items": null,
            "grid_row": null,
            "max_height": null,
            "align_content": null,
            "visibility": null,
            "align_self": null,
            "height": null,
            "min_height": null,
            "padding": null,
            "grid_auto_rows": null,
            "grid_gap": null,
            "max_width": null,
            "order": null,
            "_view_module_version": "1.2.0",
            "grid_template_areas": null,
            "object_position": null,
            "object_fit": null,
            "grid_auto_columns": null,
            "margin": null,
            "display": null,
            "left": null
          }
        },
        "ed7ad038c17f4500863436320ded2144": {
          "model_module": "@jupyter-widgets/controls",
          "model_name": "DescriptionStyleModel",
          "state": {
            "_view_name": "StyleView",
            "_model_name": "DescriptionStyleModel",
            "description_width": "",
            "_view_module": "@jupyter-widgets/base",
            "_model_module_version": "1.5.0",
            "_view_count": null,
            "_view_module_version": "1.2.0",
            "_model_module": "@jupyter-widgets/controls"
          }
        },
        "ce1ad3b430c44eec8a885539a3d056a2": {
          "model_module": "@jupyter-widgets/base",
          "model_name": "LayoutModel",
          "state": {
            "_view_name": "LayoutView",
            "grid_template_rows": null,
            "right": null,
            "justify_content": null,
            "_view_module": "@jupyter-widgets/base",
            "overflow": null,
            "_model_module_version": "1.2.0",
            "_view_count": null,
            "flex_flow": null,
            "width": null,
            "min_width": null,
            "border": null,
            "align_items": null,
            "bottom": null,
            "_model_module": "@jupyter-widgets/base",
            "top": null,
            "grid_column": null,
            "overflow_y": null,
            "overflow_x": null,
            "grid_auto_flow": null,
            "grid_area": null,
            "grid_template_columns": null,
            "flex": null,
            "_model_name": "LayoutModel",
            "justify_items": null,
            "grid_row": null,
            "max_height": null,
            "align_content": null,
            "visibility": null,
            "align_self": null,
            "height": null,
            "min_height": null,
            "padding": null,
            "grid_auto_rows": null,
            "grid_gap": null,
            "max_width": null,
            "order": null,
            "_view_module_version": "1.2.0",
            "grid_template_areas": null,
            "object_position": null,
            "object_fit": null,
            "grid_auto_columns": null,
            "margin": null,
            "display": null,
            "left": null
          }
        }
      }
    }
  },
  "cells": [
    {
      "cell_type": "markdown",
      "metadata": {
        "id": "view-in-github",
        "colab_type": "text"
      },
      "source": [
        "<a href=\"https://colab.research.google.com/github/Matvezy/Body-Mesurments/blob/master/TorchFRCNN.ipynb\" target=\"_parent\"><img src=\"https://colab.research.google.com/assets/colab-badge.svg\" alt=\"Open In Colab\"/></a>"
      ]
    },
    {
      "cell_type": "code",
      "metadata": {
        "colab": {
          "base_uri": "https://localhost:8080/"
        },
        "id": "bhQpfUFrQfgl",
        "outputId": "b64fd7de-d7ad-47cd-abfe-aab8e87fba23"
      },
      "source": [
        "from google.colab import drive\r\n",
        "drive.mount(\"/content/gdrive\")"
      ],
      "execution_count": 1,
      "outputs": [
        {
          "output_type": "stream",
          "text": [
            "Mounted at /content/gdrive\n"
          ],
          "name": "stdout"
        }
      ]
    },
    {
      "cell_type": "code",
      "metadata": {
        "id": "PgWkPkG1sVHw",
        "colab": {
          "base_uri": "https://localhost:8080/",
          "height": 82,
          "referenced_widgets": [
            "8393e343ddab4d419f58ae3817ef8310",
            "2a62419df16f426982dbdd9381a53454",
            "d0b05f4bf5104a9f85f634cfb840f58f",
            "2a6b980cc9954618b81892ef6852aead",
            "5501f20f8e8e4b3c8561b3e5a74b1a54",
            "9e044b69549f4fc0b66689cfa010df77",
            "ed7ad038c17f4500863436320ded2144",
            "ce1ad3b430c44eec8a885539a3d056a2"
          ]
        },
        "outputId": "eb77ba4d-c9bb-485b-d2fe-1f546fd67b97"
      },
      "source": [
        "# import necessary libraries\n",
        "from PIL import Image\n",
        "import matplotlib.pyplot as plt\n",
        "import torch\n",
        "import torchvision.transforms as T\n",
        "import torchvision\n",
        "import torch\n",
        "import numpy as np\n",
        "import cv2\n",
        "import random\n",
        "from torchvision.models.detection.mask_rcnn import MaskRCNNPredictor\n",
        "\n",
        "# get the pretrained model from torchvision.models\n",
        "# Note: pretrained=True will get the pretrained weights for the model.\n",
        "# model.eval() to use the model for inference\n",
        "model = torchvision.models.detection.maskrcnn_resnet50_fpn(pretrained=True)\n",
        "model.eval()\n",
        "\n",
        "\n",
        "def random_colour_masks(image):\n",
        "  \"\"\"\n",
        "  random_colour_masks\n",
        "    parameters:\n",
        "      - image - predicted masks\n",
        "    method:\n",
        "      - the masks of each predicted object is given random colour for visualization\n",
        "  \"\"\"\n",
        "  colours = [[0, 255, 0],[0, 0, 255],[255, 0, 0],[0, 255, 255],[255, 255, 0],[255, 0, 255],[80, 70, 180],[250, 80, 190],[245, 145, 50],[70, 150, 250],[50, 190, 190]]\n",
        "  r = np.zeros_like(image).astype(np.uint8)\n",
        "  g = np.zeros_like(image).astype(np.uint8)\n",
        "  b = np.zeros_like(image).astype(np.uint8)\n",
        "  r[image == 1], g[image == 1], b[image == 1] = colours[random.randrange(0,10)]\n",
        "  coloured_mask = np.stack([r, g, b], axis=2)\n",
        "  return coloured_mask\n",
        "\n",
        "COCO_INSTANCE_CATEGORY_NAMES = [\n",
        "    '__background__', 'person'\n",
        "]\n",
        "\n",
        "def get_prediction(img_path, threshold):\n",
        "  \"\"\"\n",
        "  get_prediction\n",
        "    parameters:\n",
        "      - img_path - path of the input image\n",
        "    method:\n",
        "      - Image is obtained from the image path\n",
        "      - the image is converted to image tensor using PyTorch's Transforms\n",
        "      - image is passed through the model to get the predictions\n",
        "      - masks, classes and bounding boxes are obtained from the model and soft masks are made binary(0 or 1) on masks\n",
        "        ie: eg. segment of cat is made 1 and rest of the image is made 0\n",
        "    \n",
        "  \"\"\"\n",
        "  img = Image.open(img_path)\n",
        "  transform = T.Compose([T.ToTensor()])\n",
        "  img = transform(img)\n",
        "  pred = model([img])\n",
        "  pred_score = list(pred[0]['scores'].detach().numpy())\n",
        "  pred_t = [pred_score.index(x) for x in pred_score if x>threshold][-1]\n",
        "  masks = (pred[0]['masks']>0.5).squeeze().detach().cpu().numpy()\n",
        "  pred_class = [COCO_INSTANCE_CATEGORY_NAMES[i] for i in list(pred[0]['labels'].numpy())]\n",
        "  pred_boxes = [[(i[0], i[1]), (i[2], i[3])] for i in list(pred[0]['boxes'].detach().numpy())]\n",
        "  masks = masks[:pred_t+1]\n",
        "  pred_boxes = pred_boxes[:pred_t+1]\n",
        "  pred_class = pred_class[:pred_t+1]\n",
        "  return masks, pred_boxes, pred_class\n",
        "\n",
        "\n",
        "def instance_segmentation_api(img_path, threshold=0.5, rect_th=3, text_size=3, text_th=3):\n",
        "  \"\"\"\n",
        "  instance_segmentation_api\n",
        "    parameters:\n",
        "      - img_path - path to input image\n",
        "    method:\n",
        "      - prediction is obtained by get_prediction\n",
        "      - each mask is given random color\n",
        "      - each mask is added to the image in the ration 1:0.8 with opencv\n",
        "      - final output is displayed\n",
        "  \"\"\"\n",
        "  masks, boxes, pred_cls = get_prediction(img_path, threshold)\n",
        "  img = cv2.imread(img_path)\n",
        "  img = cv2.cvtColor(img, cv2.COLOR_BGR2RGB)\n",
        "  for i in range(len(masks)):\n",
        "    rgb_mask = random_colour_masks(masks[i])\n",
        "    img = cv2.addWeighted(img, 1, rgb_mask, 0.5, 0)\n",
        "    cv2.rectangle(img, boxes[i][0], boxes[i][1],color=(0, 255, 0), thickness=rect_th)\n",
        "    cv2.putText(img,pred_cls[i], boxes[i][0], cv2.FONT_HERSHEY_SIMPLEX, text_size, (0,255,0),thickness=text_th)\n",
        "  plt.figure(figsize=(20,30))\n",
        "  plt.imshow(img)\n",
        "  plt.xticks([])\n",
        "  plt.yticks([])\n",
        "  plt.show()"
      ],
      "execution_count": 2,
      "outputs": [
        {
          "output_type": "stream",
          "text": [
            "Downloading: \"https://download.pytorch.org/models/maskrcnn_resnet50_fpn_coco-bf2d0c1e.pth\" to /root/.cache/torch/hub/checkpoints/maskrcnn_resnet50_fpn_coco-bf2d0c1e.pth\n"
          ],
          "name": "stderr"
        },
        {
          "output_type": "display_data",
          "data": {
            "application/vnd.jupyter.widget-view+json": {
              "model_id": "8393e343ddab4d419f58ae3817ef8310",
              "version_minor": 0,
              "version_major": 2
            },
            "text/plain": [
              "HBox(children=(FloatProgress(value=0.0, max=178090079.0), HTML(value='')))"
            ]
          },
          "metadata": {
            "tags": []
          }
        },
        {
          "output_type": "stream",
          "text": [
            "\n"
          ],
          "name": "stdout"
        }
      ]
    },
    {
      "cell_type": "code",
      "metadata": {
        "id": "AygOUBvafdgW"
      },
      "source": [
        "def findppm(mask, height):\r\n",
        "  masklen = len(mask) - 1\r\n",
        "  trig1 = False\r\n",
        "  trig2 = False\r\n",
        "  trig3 = False\r\n",
        "  trig4 = False\r\n",
        "  while masklen >= 0:\r\n",
        "    for j in mask[masklen]:\r\n",
        "      if j == 1:\r\n",
        "        trig1 = True\r\n",
        "        break\r\n",
        "    if trig1:\r\n",
        "      break\r\n",
        "    masklen -= 1\r\n",
        "\r\n",
        "  topix = 0\r\n",
        "  while topix < len(mask):\r\n",
        "    for j in mask[topix]:\r\n",
        "      if j == 1:\r\n",
        "        trig2 = True\r\n",
        "        break\r\n",
        "    if trig2:\r\n",
        "      break \r\n",
        "    topix += 1\r\n",
        "\r\n",
        "  left = 0\r\n",
        "  for i in range(len(mask[0])):\r\n",
        "    for j in range((len(mask))):\r\n",
        "      if mask[j][i] == 1:\r\n",
        "        left = mask[j][i]\r\n",
        "        trig4 = True\r\n",
        "        break\r\n",
        "    if trig4:\r\n",
        "      break\r\n",
        "\r\n",
        "  right = len(mask[0]) - 1\r\n",
        "  while right >= 0:\r\n",
        "    for j in range(len(mask)-1):\r\n",
        "      if mask[j][right] == 1:\r\n",
        "        trig3 = True\r\n",
        "        break\r\n",
        "    if trig3:\r\n",
        "      break\r\n",
        "    right -= 1\r\n",
        "  return masklen, topix, left, right"
      ],
      "execution_count": 3,
      "outputs": []
    },
    {
      "cell_type": "code",
      "metadata": {
        "id": "5GELIrYgsaIe"
      },
      "source": [
        "colours = [[0, 255, 0],[0, 0, 255],[255, 0, 0],[0, 255, 255],[255, 255, 0],[255, 0, 255],[80, 70, 180],[250, 80, 190],[245, 145, 50],[70, 150, 250],[50, 190, 190]]\n",
        "\n",
        "a,b,c=colours[0]"
      ],
      "execution_count": 4,
      "outputs": []
    },
    {
      "cell_type": "code",
      "metadata": {
        "id": "KQDQAcxbs8sD"
      },
      "source": [
        "img = Image.open('/content/gdrive/MyDrive/Front.png')\n",
        "transform = T.Compose([T.ToTensor()])\n",
        "img = transform(img)\n",
        "if img.size()[0] == 4:\n",
        "        img = img[:3, ...] \n",
        "pred = model([img])"
      ],
      "execution_count": 5,
      "outputs": []
    },
    {
      "cell_type": "code",
      "metadata": {
        "colab": {
          "base_uri": "https://localhost:8080/"
        },
        "id": "cJbJ4WJJKcWx",
        "outputId": "8a120c39-b08a-463c-c5c2-1a100d9642ff"
      },
      "source": [
        "img.shape"
      ],
      "execution_count": 6,
      "outputs": [
        {
          "output_type": "execute_result",
          "data": {
            "text/plain": [
              "torch.Size([3, 666, 375])"
            ]
          },
          "metadata": {
            "tags": []
          },
          "execution_count": 6
        }
      ]
    },
    {
      "cell_type": "code",
      "metadata": {
        "id": "yWh7G36htKsi"
      },
      "source": [
        "labels = pred[0]['labels'].detach().numpy()\r\n",
        "scores = pred[0]['scores'].detach().numpy()\r\n",
        "indh = np.where(labels == 1)\r\n",
        "needed = np.where(scores[indh] > 0.8)\r\n",
        "masks = (pred[0]['masks']>0.5).squeeze().detach().cpu().numpy()\r\n",
        "mask = masks[needed].astype('int')[0]\r\n",
        "\r\n",
        "boxes = pred[0]['boxes'].detach().numpy()\r\n",
        "box = boxes[needed].astype('int')[0]"
      ],
      "execution_count": 7,
      "outputs": []
    },
    {
      "cell_type": "code",
      "metadata": {
        "id": "GNI2Pv5nClzo"
      },
      "source": [
        "height = 164"
      ],
      "execution_count": 8,
      "outputs": []
    },
    {
      "cell_type": "code",
      "metadata": {
        "id": "Mu8sd1lifOHx"
      },
      "source": [
        "bottom, top, left, right = findppm(mask, height)"
      ],
      "execution_count": 9,
      "outputs": []
    },
    {
      "cell_type": "code",
      "metadata": {
        "id": "3zQmNoSjyJHR"
      },
      "source": [
        "ppm_std = 2.56"
      ],
      "execution_count": 10,
      "outputs": []
    },
    {
      "cell_type": "code",
      "metadata": {
        "id": "ZkYTDcL7CaWe"
      },
      "source": [
        "req_pixheight = int(ppm_std * height)"
      ],
      "execution_count": 11,
      "outputs": []
    },
    {
      "cell_type": "code",
      "metadata": {
        "id": "5tjdj04hhs7d"
      },
      "source": [
        "import matplotlib.image as mpimg\r\n",
        "image=mpimg.imread('/content/gdrive/MyDrive/Front.png')\r\n",
        "image = image[top:bottom,box[0]:box[2]]\r\n",
        "req_width = int((req_pixheight * image.shape[1])/image.shape[0])"
      ],
      "execution_count": 112,
      "outputs": []
    },
    {
      "cell_type": "code",
      "metadata": {
        "id": "dYJ6H-2TEXfY"
      },
      "source": [
        "import torchvision.transforms.functional as TF\r\n",
        "image = Image.fromarray((image* 255).astype(np.uint8))\r\n",
        "image = TF.resize(image, (req_pixheight, req_width))"
      ],
      "execution_count": 113,
      "outputs": []
    },
    {
      "cell_type": "code",
      "metadata": {
        "id": "-pGwbAmVDjDx"
      },
      "source": [
        "alpha = image.split()[-1]"
      ],
      "execution_count": 114,
      "outputs": []
    },
    {
      "cell_type": "code",
      "metadata": {
        "colab": {
          "base_uri": "https://localhost:8080/"
        },
        "id": "jIit1GwkY9tk",
        "outputId": "328f806f-4148-4ea9-a43a-dcb9b7ba2cf9"
      },
      "source": [
        "print(alpha)"
      ],
      "execution_count": 115,
      "outputs": [
        {
          "output_type": "stream",
          "text": [
            "<PIL.Image.Image image mode=L size=268x419 at 0x7FD189F5B6A0>\n"
          ],
          "name": "stdout"
        }
      ]
    },
    {
      "cell_type": "code",
      "metadata": {
        "id": "TlyUBYTMHryA"
      },
      "source": [
        "alpha = np.array(alpha)"
      ],
      "execution_count": 116,
      "outputs": []
    },
    {
      "cell_type": "code",
      "metadata": {
        "id": "QLP8NEF9JxbQ"
      },
      "source": [
        "width = len(alpha[0])\r\n",
        "height = len(alpha)\r\n",
        "midpoint_w = 0\r\n",
        "dist_h = 0\r\n",
        "\r\n",
        "if width < 512:\r\n",
        "  dist_w = 512 - width\r\n",
        "  midpoint_w = int(dist_w/2)\r\n",
        "if height < 512:\r\n",
        "  dist_h = 512 - height\r\n",
        "\r\n",
        "alpha = np.pad(alpha, ((dist_h, 0),(midpoint_w, midpoint_w)), 'constant')\r\n",
        "alpha = Image.fromarray(alpha)"
      ],
      "execution_count": 117,
      "outputs": []
    },
    {
      "cell_type": "code",
      "metadata": {
        "id": "ChFT5kX9GRTu"
      },
      "source": [
        "alpha_image = Image.merge('RGB', (alpha, alpha, alpha))"
      ],
      "execution_count": 118,
      "outputs": []
    },
    {
      "cell_type": "code",
      "metadata": {
        "id": "Mw93duB2tUPq",
        "colab": {
          "base_uri": "https://localhost:8080/",
          "height": 269
        },
        "outputId": "f458839b-a084-4256-84a3-d3a856ddf82d"
      },
      "source": [
        "plt.imshow(alpha_image)\n",
        "plt.show()"
      ],
      "execution_count": 119,
      "outputs": [
        {
          "output_type": "display_data",
          "data": {
            "image/png": "[encoded data removed]",
            "text/plain": [
              "<Figure size 432x288 with 1 Axes>"
            ]
          },
          "metadata": {
            "tags": [],
            "needs_background": "light"
          }
        }
      ]
    }
  ]
}